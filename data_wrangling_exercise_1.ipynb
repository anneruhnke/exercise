{
 "cells": [
  {
   "cell_type": "markdown",
   "id": "together-future",
   "metadata": {},
   "source": [
    "# Data Wrangling Exercise"
   ]
  },
  {
   "cell_type": "code",
   "execution_count": 5,
   "id": "residential-tumor",
   "metadata": {
    "scrolled": true
   },
   "outputs": [],
   "source": [
    "import numpy as np\n",
    "import pandas as pd\n",
    "import requests\n",
    "import os\n",
    "import json\n",
    "from timeit import default_timer as timer\n",
    "import matplotlib.pyplot as plt"
   ]
  },
  {
   "cell_type": "code",
   "execution_count": 6,
   "id": "chinese-relevance",
   "metadata": {},
   "outputs": [],
   "source": [
    "#Import csv file\n",
    "tae = pd.read_csv('twitter-archive-enhanced.csv')"
   ]
  },
  {
   "cell_type": "code",
   "execution_count": 7,
   "id": "needed-virus",
   "metadata": {
    "collapsed": true
   },
   "outputs": [
    {
     "data": {
      "text/html": [
       "<div>\n",
       "<style scoped>\n",
       "    .dataframe tbody tr th:only-of-type {\n",
       "        vertical-align: middle;\n",
       "    }\n",
       "\n",
       "    .dataframe tbody tr th {\n",
       "        vertical-align: top;\n",
       "    }\n",
       "\n",
       "    .dataframe thead th {\n",
       "        text-align: right;\n",
       "    }\n",
       "</style>\n",
       "<table border=\"1\" class=\"dataframe\">\n",
       "  <thead>\n",
       "    <tr style=\"text-align: right;\">\n",
       "      <th></th>\n",
       "      <th>tweet_id</th>\n",
       "      <th>in_reply_to_status_id</th>\n",
       "      <th>in_reply_to_user_id</th>\n",
       "      <th>timestamp</th>\n",
       "      <th>source</th>\n",
       "      <th>text</th>\n",
       "      <th>retweeted_status_id</th>\n",
       "      <th>retweeted_status_user_id</th>\n",
       "      <th>retweeted_status_timestamp</th>\n",
       "      <th>expanded_urls</th>\n",
       "      <th>rating_numerator</th>\n",
       "      <th>rating_denominator</th>\n",
       "      <th>name</th>\n",
       "      <th>doggo</th>\n",
       "      <th>floofer</th>\n",
       "      <th>pupper</th>\n",
       "      <th>puppo</th>\n",
       "    </tr>\n",
       "  </thead>\n",
       "  <tbody>\n",
       "    <tr>\n",
       "      <th>0</th>\n",
       "      <td>892420643555336193</td>\n",
       "      <td>NaN</td>\n",
       "      <td>NaN</td>\n",
       "      <td>2017-08-01 16:23:56 +0000</td>\n",
       "      <td>&lt;a href=\"http://twitter.com/download/iphone\" r...</td>\n",
       "      <td>This is Phineas. He's a mystical boy. Only eve...</td>\n",
       "      <td>NaN</td>\n",
       "      <td>NaN</td>\n",
       "      <td>NaN</td>\n",
       "      <td>https://twitter.com/dog_rates/status/892420643...</td>\n",
       "      <td>13</td>\n",
       "      <td>10</td>\n",
       "      <td>Phineas</td>\n",
       "      <td>None</td>\n",
       "      <td>None</td>\n",
       "      <td>None</td>\n",
       "      <td>None</td>\n",
       "    </tr>\n",
       "    <tr>\n",
       "      <th>1</th>\n",
       "      <td>892177421306343426</td>\n",
       "      <td>NaN</td>\n",
       "      <td>NaN</td>\n",
       "      <td>2017-08-01 00:17:27 +0000</td>\n",
       "      <td>&lt;a href=\"http://twitter.com/download/iphone\" r...</td>\n",
       "      <td>This is Tilly. She's just checking pup on you....</td>\n",
       "      <td>NaN</td>\n",
       "      <td>NaN</td>\n",
       "      <td>NaN</td>\n",
       "      <td>https://twitter.com/dog_rates/status/892177421...</td>\n",
       "      <td>13</td>\n",
       "      <td>10</td>\n",
       "      <td>Tilly</td>\n",
       "      <td>None</td>\n",
       "      <td>None</td>\n",
       "      <td>None</td>\n",
       "      <td>None</td>\n",
       "    </tr>\n",
       "    <tr>\n",
       "      <th>2</th>\n",
       "      <td>891815181378084864</td>\n",
       "      <td>NaN</td>\n",
       "      <td>NaN</td>\n",
       "      <td>2017-07-31 00:18:03 +0000</td>\n",
       "      <td>&lt;a href=\"http://twitter.com/download/iphone\" r...</td>\n",
       "      <td>This is Archie. He is a rare Norwegian Pouncin...</td>\n",
       "      <td>NaN</td>\n",
       "      <td>NaN</td>\n",
       "      <td>NaN</td>\n",
       "      <td>https://twitter.com/dog_rates/status/891815181...</td>\n",
       "      <td>12</td>\n",
       "      <td>10</td>\n",
       "      <td>Archie</td>\n",
       "      <td>None</td>\n",
       "      <td>None</td>\n",
       "      <td>None</td>\n",
       "      <td>None</td>\n",
       "    </tr>\n",
       "    <tr>\n",
       "      <th>3</th>\n",
       "      <td>891689557279858688</td>\n",
       "      <td>NaN</td>\n",
       "      <td>NaN</td>\n",
       "      <td>2017-07-30 15:58:51 +0000</td>\n",
       "      <td>&lt;a href=\"http://twitter.com/download/iphone\" r...</td>\n",
       "      <td>This is Darla. She commenced a snooze mid meal...</td>\n",
       "      <td>NaN</td>\n",
       "      <td>NaN</td>\n",
       "      <td>NaN</td>\n",
       "      <td>https://twitter.com/dog_rates/status/891689557...</td>\n",
       "      <td>13</td>\n",
       "      <td>10</td>\n",
       "      <td>Darla</td>\n",
       "      <td>None</td>\n",
       "      <td>None</td>\n",
       "      <td>None</td>\n",
       "      <td>None</td>\n",
       "    </tr>\n",
       "    <tr>\n",
       "      <th>4</th>\n",
       "      <td>891327558926688256</td>\n",
       "      <td>NaN</td>\n",
       "      <td>NaN</td>\n",
       "      <td>2017-07-29 16:00:24 +0000</td>\n",
       "      <td>&lt;a href=\"http://twitter.com/download/iphone\" r...</td>\n",
       "      <td>This is Franklin. He would like you to stop ca...</td>\n",
       "      <td>NaN</td>\n",
       "      <td>NaN</td>\n",
       "      <td>NaN</td>\n",
       "      <td>https://twitter.com/dog_rates/status/891327558...</td>\n",
       "      <td>12</td>\n",
       "      <td>10</td>\n",
       "      <td>Franklin</td>\n",
       "      <td>None</td>\n",
       "      <td>None</td>\n",
       "      <td>None</td>\n",
       "      <td>None</td>\n",
       "    </tr>\n",
       "  </tbody>\n",
       "</table>\n",
       "</div>"
      ],
      "text/plain": [
       "             tweet_id  in_reply_to_status_id  in_reply_to_user_id  \\\n",
       "0  892420643555336193                    NaN                  NaN   \n",
       "1  892177421306343426                    NaN                  NaN   \n",
       "2  891815181378084864                    NaN                  NaN   \n",
       "3  891689557279858688                    NaN                  NaN   \n",
       "4  891327558926688256                    NaN                  NaN   \n",
       "\n",
       "                   timestamp  \\\n",
       "0  2017-08-01 16:23:56 +0000   \n",
       "1  2017-08-01 00:17:27 +0000   \n",
       "2  2017-07-31 00:18:03 +0000   \n",
       "3  2017-07-30 15:58:51 +0000   \n",
       "4  2017-07-29 16:00:24 +0000   \n",
       "\n",
       "                                              source  \\\n",
       "0  <a href=\"http://twitter.com/download/iphone\" r...   \n",
       "1  <a href=\"http://twitter.com/download/iphone\" r...   \n",
       "2  <a href=\"http://twitter.com/download/iphone\" r...   \n",
       "3  <a href=\"http://twitter.com/download/iphone\" r...   \n",
       "4  <a href=\"http://twitter.com/download/iphone\" r...   \n",
       "\n",
       "                                                text  retweeted_status_id  \\\n",
       "0  This is Phineas. He's a mystical boy. Only eve...                  NaN   \n",
       "1  This is Tilly. She's just checking pup on you....                  NaN   \n",
       "2  This is Archie. He is a rare Norwegian Pouncin...                  NaN   \n",
       "3  This is Darla. She commenced a snooze mid meal...                  NaN   \n",
       "4  This is Franklin. He would like you to stop ca...                  NaN   \n",
       "\n",
       "   retweeted_status_user_id retweeted_status_timestamp  \\\n",
       "0                       NaN                        NaN   \n",
       "1                       NaN                        NaN   \n",
       "2                       NaN                        NaN   \n",
       "3                       NaN                        NaN   \n",
       "4                       NaN                        NaN   \n",
       "\n",
       "                                       expanded_urls  rating_numerator  \\\n",
       "0  https://twitter.com/dog_rates/status/892420643...                13   \n",
       "1  https://twitter.com/dog_rates/status/892177421...                13   \n",
       "2  https://twitter.com/dog_rates/status/891815181...                12   \n",
       "3  https://twitter.com/dog_rates/status/891689557...                13   \n",
       "4  https://twitter.com/dog_rates/status/891327558...                12   \n",
       "\n",
       "   rating_denominator      name doggo floofer pupper puppo  \n",
       "0                  10   Phineas  None    None   None  None  \n",
       "1                  10     Tilly  None    None   None  None  \n",
       "2                  10    Archie  None    None   None  None  \n",
       "3                  10     Darla  None    None   None  None  \n",
       "4                  10  Franklin  None    None   None  None  "
      ]
     },
     "execution_count": 7,
     "metadata": {},
     "output_type": "execute_result"
    }
   ],
   "source": [
    "tae.head()"
   ]
  },
  {
   "cell_type": "code",
   "execution_count": null,
   "id": "removable-highway",
   "metadata": {},
   "outputs": [],
   "source": [
    "# Get overview of dataset\n",
    "# Find null values\n",
    "# Handle missing data (find, fill, drop)\n",
    "# Handle duplicates"
   ]
  },
  {
   "cell_type": "code",
   "execution_count": null,
   "id": "intense-colorado",
   "metadata": {},
   "outputs": [],
   "source": [
    "# Group data \n",
    "# (.sum / .count / .median / .quantile([0.25,0.75]) / .min / .max / .mean / .var / .std / .apply(function)\n",
    "# .size / .value_counts / .rank(method='dense' or 'min' or 'first' or 'pct=True') / .cumsum (cumulative sum) \n",
    "# / .cummax / .cummin / .cumprod"
   ]
  },
  {
   "cell_type": "code",
   "execution_count": null,
   "id": "willing-estonia",
   "metadata": {},
   "outputs": [],
   "source": [
    "# Convert data types (string, date time)"
   ]
  },
  {
   "cell_type": "code",
   "execution_count": null,
   "id": "satisfied-ethnic",
   "metadata": {},
   "outputs": [],
   "source": [
    "# Access columns\n",
    "# Access rows\n",
    "# Access subsets"
   ]
  },
  {
   "cell_type": "code",
   "execution_count": null,
   "id": "subsequent-logic",
   "metadata": {},
   "outputs": [],
   "source": [
    "# Create new column"
   ]
  },
  {
   "cell_type": "code",
   "execution_count": null,
   "id": "limited-alabama",
   "metadata": {},
   "outputs": [],
   "source": [
    "# Create new row"
   ]
  },
  {
   "cell_type": "code",
   "execution_count": null,
   "id": "owned-knowing",
   "metadata": {},
   "outputs": [],
   "source": [
    "# Create, remove, sort, append, access, change values (dataframes, lists, dictonaries)\n",
    "# Create a dictonary\n",
    "# Access different values\n",
    "# Create new items"
   ]
  },
  {
   "cell_type": "code",
   "execution_count": null,
   "id": "rental-jonathan",
   "metadata": {},
   "outputs": [],
   "source": [
    "# Merge columns (melt, concat, merge)"
   ]
  },
  {
   "cell_type": "code",
   "execution_count": null,
   "id": "specialized-banana",
   "metadata": {},
   "outputs": [],
   "source": [
    "# Change values in cells (loop) (text, upper, lower, capital, replace . - etc.)\n",
    "# Change values in cells (start, end with certain values, include or exclude certain values)"
   ]
  },
  {
   "cell_type": "code",
   "execution_count": null,
   "id": "adult-acrylic",
   "metadata": {},
   "outputs": [],
   "source": [
    "# Count words"
   ]
  },
  {
   "cell_type": "code",
   "execution_count": null,
   "id": "average-questionnaire",
   "metadata": {},
   "outputs": [],
   "source": [
    "# Change NaNs"
   ]
  },
  {
   "cell_type": "code",
   "execution_count": null,
   "id": "sophisticated-irish",
   "metadata": {},
   "outputs": [],
   "source": [
    "# Query data"
   ]
  },
  {
   "cell_type": "code",
   "execution_count": null,
   "id": "contrary-filing",
   "metadata": {},
   "outputs": [],
   "source": [
    "# Access column names (change column names)"
   ]
  },
  {
   "cell_type": "code",
   "execution_count": null,
   "id": "enclosed-authorization",
   "metadata": {},
   "outputs": [],
   "source": [
    "# Access index names (change index, set and reset)"
   ]
  },
  {
   "cell_type": "code",
   "execution_count": null,
   "id": "musical-arena",
   "metadata": {},
   "outputs": [],
   "source": [
    "# Convert list to dataframe\n",
    "# Convert dataframe to list"
   ]
  },
  {
   "cell_type": "code",
   "execution_count": null,
   "id": "advised-distribution",
   "metadata": {},
   "outputs": [],
   "source": [
    "# Search True/False values"
   ]
  },
  {
   "cell_type": "code",
   "execution_count": null,
   "id": "spread-minute",
   "metadata": {},
   "outputs": [],
   "source": [
    "# Create function (normal, lambda)"
   ]
  }
 ],
 "metadata": {
  "kernelspec": {
   "display_name": "Python 3",
   "language": "python",
   "name": "python3"
  },
  "language_info": {
   "codemirror_mode": {
    "name": "ipython",
    "version": 3
   },
   "file_extension": ".py",
   "mimetype": "text/x-python",
   "name": "python",
   "nbconvert_exporter": "python",
   "pygments_lexer": "ipython3",
   "version": "3.8.8"
  }
 },
 "nbformat": 4,
 "nbformat_minor": 5
}
